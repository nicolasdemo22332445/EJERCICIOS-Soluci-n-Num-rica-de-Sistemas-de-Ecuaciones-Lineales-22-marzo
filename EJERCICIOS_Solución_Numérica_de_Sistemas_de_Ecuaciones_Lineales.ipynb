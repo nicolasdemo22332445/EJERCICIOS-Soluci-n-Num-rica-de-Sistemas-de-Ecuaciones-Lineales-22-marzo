{
  "nbformat": 4,
  "nbformat_minor": 0,
  "metadata": {
    "colab": {
      "provenance": [],
      "authorship_tag": "ABX9TyOKhHT1fiQz9qTQmP8U8GQq",
      "include_colab_link": true
    },
    "kernelspec": {
      "name": "python3",
      "display_name": "Python 3"
    },
    "language_info": {
      "name": "python"
    }
  },
  "cells": [
    {
      "cell_type": "markdown",
      "metadata": {
        "id": "view-in-github",
        "colab_type": "text"
      },
      "source": [
        "<a href=\"https://colab.research.google.com/github/nicolasdemo22332445/EJERCICIOS-Soluci-n-Num-rica-de-Sistemas-de-Ecuaciones-Lineales-22-marzo/blob/main/EJERCICIOS_Soluci%C3%B3n_Num%C3%A9rica_de_Sistemas_de_Ecuaciones_Lineales.ipynb\" target=\"_parent\"><img src=\"https://colab.research.google.com/assets/colab-badge.svg\" alt=\"Open In Colab\"/></a>"
      ]
    },
    {
      "cell_type": "markdown",
      "source": [
        "Ejercicio 1: Eliminacion de Gauss (Plantamiento 1)"
      ],
      "metadata": {
        "id": "X1fCIkeiQEBI"
      }
    },
    {
      "cell_type": "code",
      "execution_count": 24,
      "metadata": {
        "colab": {
          "base_uri": "https://localhost:8080/"
        },
        "id": "zh81McFRQCLS",
        "outputId": "33a8ec4d-871e-430f-a184-f45191ae2bc5"
      },
      "outputs": [
        {
          "output_type": "stream",
          "name": "stdout",
          "text": [
            "Solucion del sistema:\n",
            "x = -0.5000, y = -0.0000, z = 1.5000\n"
          ]
        }
      ],
      "source": [
        "import numpy as np\n",
        "\n",
        "# Matriz de coeficientes\n",
        "A = np.array([[2,3,1],\n",
        "             [4,1,2],\n",
        "             [3,4,2]], dtype=float)\n",
        "\n",
        "#Vector de terminos independienmtes\n",
        "b = np.array([0.5, 1.0, 1.5], dtype=float)\n",
        "\n",
        "#Resolvemos el sistema de ecuaciones usando eliminacion de Gauss\n",
        "sol = np.linalg.solve(A, b)\n",
        "\n",
        "#Mostrar la solucion\n",
        "print(\"Solucion del sistema:\")\n",
        "print(f\"x = {sol[0]:.4f}, y = {sol[1]:.4f}, z = {sol[2]:.4f}\")\n"
      ]
    },
    {
      "cell_type": "markdown",
      "source": [
        "Plantamiento 2\n"
      ],
      "metadata": {
        "id": "WBSqhtiUn2vs"
      }
    },
    {
      "cell_type": "code",
      "source": [
        "import numpy as np\n",
        "\n",
        "# Matriz de coeficientes\n",
        "A = np.array([[3, -0.1, -0.2],\n",
        "             [0.1, 0.7, -0.3],\n",
        "             [0.3, -0.2, 10]], dtype=float)\n",
        "\n",
        "#Vector de terminos independienmtes\n",
        "b = np.array([7.85, -19.3, 71.4], dtype=float)\n",
        "\n",
        "#Resolvemos el sistema de ecuaciones usando eliminacion de Gauss\n",
        "sol = np.linalg.solve(A, b)\n",
        "\n",
        "#Mostrar la solucion\n",
        "print(\"Solucion del sistema:\")\n",
        "print(f\"x = {sol[0]:.4f}, y = {sol[1]:.4f}, z = {sol[2]:.4f}\")\n"
      ],
      "metadata": {
        "colab": {
          "base_uri": "https://localhost:8080/"
        },
        "id": "0FZi3ZuHn6cw",
        "outputId": "a984a3e5-fbea-4b8b-b098-3347ca9060a2"
      },
      "execution_count": 25,
      "outputs": [
        {
          "output_type": "stream",
          "name": "stdout",
          "text": [
            "Solucion del sistema:\n",
            "x = 2.2191, y = -25.0719, z = 6.5720\n"
          ]
        }
      ]
    },
    {
      "cell_type": "markdown",
      "source": [
        "Ejercico 2: Matriz Inversa para calcular los pesos ajustados"
      ],
      "metadata": {
        "id": "hR5qFkx0SPMa"
      }
    },
    {
      "cell_type": "code",
      "source": [
        "#Matriz de coeficientes\n",
        "A = np.array([[3, -0.1, -0.2],\n",
        "              [0.1, 0.7, -0.3],\n",
        "              [0.3, -0.2, 10]], dtype=float)\n",
        "\n",
        "#Vcetor de salida deseada\n",
        "b = np.array([7.85, -19.3, 71.4], dtype=float)\n",
        "\n",
        "#Calcular la matriz inversa\n",
        "A_inv = np.linalg.inv(A)\n",
        "\n",
        "#Multiplicar A inv por el vector b\n",
        "sol = np.dot(A_inv, b)\n",
        "\n",
        "#Mostrar la solucion\n",
        "print(\"Pesos ajustados: \")\n",
        "print(f\"w1 = {sol[0]:.4f}, w2 = {sol[1]:.4f}, w3 = {sol[2]:.4f}\")"
      ],
      "metadata": {
        "colab": {
          "base_uri": "https://localhost:8080/"
        },
        "id": "kOCXTCJASMQ0",
        "outputId": "ee433899-f74f-4a9f-f88a-f2b47adcb361"
      },
      "execution_count": 26,
      "outputs": [
        {
          "output_type": "stream",
          "name": "stdout",
          "text": [
            "Pesos ajustados: \n",
            "w1 = 2.2191, w2 = -25.0719, w3 = 6.5720\n"
          ]
        }
      ]
    },
    {
      "cell_type": "markdown",
      "source": [
        "Ejercicio 3: Metodo de Jacobi"
      ],
      "metadata": {
        "id": "8lGxThdpTf99"
      }
    },
    {
      "cell_type": "code",
      "source": [
        "def jacobi(A, B, x0, tol=1e-10, max_iter=1000):\n",
        "    n = len(b)\n",
        "    x = x0\n",
        "    for k in range(max_iter):\n",
        "        x_new = np.zeros_like(x)\n",
        "        for i in range(n):\n",
        "            s = sum(A[i][j] * x[j] for j in range(n) if i != j)\n",
        "            x_new[i] = (b[i] - s) / A[i][i]\n",
        "        if np.linalg.norm(x_new - x, ord=np.inf) < tol:\n",
        "            return x_new\n",
        "        x = x_new\n",
        "    return x\n",
        "\n",
        "#Matriz de coeficientes\n",
        "A = np.array([[3, -0.1, -0.2],\n",
        "              [0.1, 0.7, -0.3],\n",
        "              [0.3, -0.2, 10]], dtype=float)\n",
        "\n",
        "#Vector de errores\n",
        "b = np.array([7.85, -19.3, 71.4], dtype=float)\n",
        "\n",
        "#Aproximacion inicial\n",
        "x0 = np.zeros_like(b)\n",
        "\n",
        "#Aplicar el metodo de jacobi\n",
        "sol = jacobi(A,b, x0)\n",
        "\n",
        "print(\"Pesos ajustados usando Jacobi\")\n",
        "print(sol)"
      ],
      "metadata": {
        "colab": {
          "base_uri": "https://localhost:8080/"
        },
        "id": "hrwdKwjgTkF3",
        "outputId": "ca7f7d50-7f73-4c65-8783-1f05fc1ed0b8"
      },
      "execution_count": 27,
      "outputs": [
        {
          "output_type": "stream",
          "name": "stdout",
          "text": [
            "Pesos ajustados usando Jacobi\n",
            "[  2.21907032 -25.07187128   6.57199046]\n"
          ]
        }
      ]
    },
    {
      "cell_type": "markdown",
      "source": [
        "Ejercicio 4: Metodo Iterativo de Gauss-Seidel"
      ],
      "metadata": {
        "id": "i7ogu3KIVk3T"
      }
    },
    {
      "cell_type": "code",
      "source": [
        "import numpy as np\n",
        "\n",
        "def gauss_seidel(A, b, x0, tol=1e-10, max_iter=1000):\n",
        "    n = len(b)\n",
        "    x = x0\n",
        "    for k in range(max_iter):\n",
        "        x_new = np.copy(x)\n",
        "        for i in range(n):\n",
        "            s1 = sum(A[i][j] * x_new[j] for j in range(i))\n",
        "            s2 = sum(A[i][j] * x[j] for j in range(i+1, n))\n",
        "            x_new[i] = (b[i] - s1 - s2) / A[i][i]\n",
        "        if np.linalg.norm(x_new - x, ord=np.inf) < tol:\n",
        "            return x_new, k\n",
        "        x = x_new\n",
        "    return x, max_iter\n",
        "\n",
        "#Matriz de coeficientes\n",
        "A = np.array([[10, -1, 2],\n",
        "              [-1, 11, -1],\n",
        "              [2, -1, 10]], dtype=float)\n",
        "\n",
        "#Vector de tperminos independientes\n",
        "b = np.array([5, 6, 7], dtype=float)\n",
        "\n",
        "#Valor inicial de las incógnitas\n",
        "x0 = np.zeros_like(b)\n",
        "\n",
        "#Resolver el sistema usando el método de Gauss-Seidel\n",
        "sol, iteraciones = gauss_seidel(A, b, x0)\n",
        "\n",
        "#Mostrar la solución y el número de iteraciones\n",
        "print(\"Solución del sistema:\")\n",
        "print(sol)\n",
        "print(f\"Número de iteraciones: {iteraciones}\")"
      ],
      "metadata": {
        "colab": {
          "base_uri": "https://localhost:8080/"
        },
        "id": "H7m6udQ-VqwQ",
        "outputId": "b75cc17b-a8ac-412a-c604-ecc0a1d554e4"
      },
      "execution_count": 42,
      "outputs": [
        {
          "output_type": "stream",
          "name": "stdout",
          "text": [
            "Solución del sistema:\n",
            "[0.42884615 0.64615385 0.67884615]\n",
            "Número de iteraciones: 8\n"
          ]
        }
      ]
    },
    {
      "cell_type": "markdown",
      "source": [
        "Ejercicio 5: Descomposicion de Cholesky aplicada a una red **neuronal**"
      ],
      "metadata": {
        "id": "AXbnGF_0ZDDH"
      }
    },
    {
      "cell_type": "code",
      "source": [
        "from scipy.linalg import cholesky\n",
        "\n",
        "#Matriz y vector\n",
        "A = np.array([[25, 15, -5],\n",
        "              [15, 18, 0],\n",
        "              [-5, 0, 11]], dtype=float)\n",
        "\n",
        "b = np.array([350, 400, 200], dtype=float)\n",
        "\n",
        "#Descomposicion de cholesky\n",
        "L = cholesky(A, lower=True)\n",
        "\n",
        "#Resolver Ly = b\n",
        "y = np.linalg.solve(L, b)\n",
        "\n",
        "#Resolver L^T x = y\n",
        "x = np.linalg.solve(L.T, y)\n",
        "\n",
        "print(\"Pesos ajustados usando Cholesky: \")\n",
        "print(x)"
      ],
      "metadata": {
        "colab": {
          "base_uri": "https://localhost:8080/"
        },
        "id": "5AdxfBwCZL8B",
        "outputId": "5758a4b5-bda0-4696-c5b9-327cba5daebd"
      },
      "execution_count": 29,
      "outputs": [
        {
          "output_type": "stream",
          "name": "stdout",
          "text": [
            "Pesos ajustados usando Cholesky: \n",
            "[10.51851852 13.45679012 22.96296296]\n"
          ]
        }
      ]
    }
  ]
}